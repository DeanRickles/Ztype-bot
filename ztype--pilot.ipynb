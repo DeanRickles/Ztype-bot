{
 "cells": [
  {
   "cell_type": "code",
   "execution_count": 1,
   "metadata": {},
   "outputs": [
    {
     "ename": "ModuleNotFoundError",
     "evalue": "No module named 'cv2'",
     "output_type": "error",
     "traceback": [
      "\u001b[0;31m---------------------------------------------------------------------------\u001b[0m",
      "\u001b[0;31mModuleNotFoundError\u001b[0m                       Traceback (most recent call last)",
      "\u001b[1;32m/code/github/Ztype-bot/ztype--pilot.ipynb Cell 1'\u001b[0m in \u001b[0;36m<cell line: 1>\u001b[0;34m()\u001b[0m\n\u001b[0;32m----> <a href='vscode-notebook-cell://code.rickles.co.uk/code/github/Ztype-bot/ztype--pilot.ipynb#ch0000000vscode-remote?line=0'>1</a>\u001b[0m \u001b[39mfrom\u001b[39;00m \u001b[39mpackages\u001b[39;00m \u001b[39mimport\u001b[39;00m ztype \u001b[39m# sceenshot point;\u001b[39;00m\n\u001b[1;32m      <a href='vscode-notebook-cell://code.rickles.co.uk/code/github/Ztype-bot/ztype--pilot.ipynb#ch0000000vscode-remote?line=2'>3</a>\u001b[0m \u001b[39mimport\u001b[39;00m \u001b[39mnumpy\u001b[39;00m \u001b[39mas\u001b[39;00m \u001b[39mnp\u001b[39;00m  \u001b[39m# image manipulation\u001b[39;00m\n\u001b[1;32m      <a href='vscode-notebook-cell://code.rickles.co.uk/code/github/Ztype-bot/ztype--pilot.ipynb#ch0000000vscode-remote?line=3'>4</a>\u001b[0m \u001b[39mimport\u001b[39;00m \u001b[39mcv2\u001b[39;00m          \u001b[39m# Image view / manipulation\u001b[39;00m\n",
      "File \u001b[0;32m/code/github/Ztype-bot/packages/ztype.py:1\u001b[0m, in \u001b[0;36m<module>\u001b[0;34m\u001b[0m\n\u001b[0;32m----> <a href='file:///code/github/Ztype-bot/packages/ztype.py?line=0'>1</a>\u001b[0m \u001b[39mimport\u001b[39;00m \u001b[39mcv2\u001b[39;00m\n\u001b[1;32m      <a href='file:///code/github/Ztype-bot/packages/ztype.py?line=1'>2</a>\u001b[0m \u001b[39mimport\u001b[39;00m \u001b[39mnumpy\u001b[39;00m \u001b[39mas\u001b[39;00m \u001b[39mnp\u001b[39;00m\n\u001b[1;32m      <a href='file:///code/github/Ztype-bot/packages/ztype.py?line=3'>4</a>\u001b[0m \u001b[39m# Screen Shot Point\u001b[39;00m\n",
      "\u001b[0;31mModuleNotFoundError\u001b[0m: No module named 'cv2'"
     ]
    }
   ],
   "source": [
    "from packages import ztype # sceenshot point;\n",
    "\n",
    "import numpy as np  # image manipulation\n",
    "import cv2          # Image view / manipulation\n",
    "from mss import mss # screenshot \n",
    "# import keyboard     # simulate keyboard events."
   ]
  },
  {
   "cell_type": "code",
   "execution_count": 53,
   "metadata": {},
   "outputs": [],
   "source": [
    "# TODO: Create a class ImageMask. \n",
    "# TODO: Add all the colours To be used later on.\n",
    "    # TODO: White\n",
    "    # TODO: Orange\n",
    "# TODO: Review applying multipule masks.\n",
    "\n",
    "def maskOrange(img):\n",
    "    \n",
    "    # Look at removing numpty/\n",
    "    # Set the lower and upper bounds\n",
    "    #    (,W?,B)\n",
    "    lower = np.array([100,0,0])\n",
    "    upper = np.array([255,255,255])\n",
    "    \n",
    "    # Create a mask for green colour using inRange function\n",
    "    mask = cv2.inRange(img, lower, upper)\n",
    "\n",
    "    # Perform bitwise and on the original image arrays using the mask\n",
    "    return cv2.bitwise_and(img, img, mask=mask)\n",
    "\n",
    "# move into it's own section.\n",
    "def maskWhite(img):\n",
    "    \n",
    "    # Look at removing numpty/\n",
    "    # Set the lower and upper bounds\n",
    "    #    (hue,saturation,value)\n",
    "    lower = np.array([100,0,0])\n",
    "    upper = np.array([255,255,255])\n",
    "    \n",
    "    # Create a mask for green colour using inRange function\n",
    "    mask = cv2.inRange(img, lower, upper)\n",
    "\n",
    "    # Perform bitwise and on the original image arrays using the mask\n",
    "    return cv2.bitwise_and(img, img, mask=mask)"
   ]
  },
  {
   "cell_type": "code",
   "execution_count": null,
   "metadata": {},
   "outputs": [],
   "source": [
    "# TODO: Set colour mask - White.\n",
    "# TODO: Set colour mask - Orange = word selected. {target word first. Check in case of miss type.}\n",
    "# TODO: Read text on screen. Show output.\n",
    "# TODO: Test while playing that words are correct. use test pack to test.\n",
    "# TODO: wait on set parameters.\n",
    "# TODO: type words\n",
    "# TODO: enter functionallity. (explode)\n",
    "# TODO: Move into Class\n",
    "\n",
    "# The simplest use, save a screen shot of the 1st monitor\n",
    "with mss() as sct:\n",
    "\n",
    "    # creating objects left and right for coord.\n",
    "    left = right = ztype.imagePosition(sct.shot())\n",
    "    \n",
    "    # left.img_scalelock(False)\n",
    "    left.scale(40)\n",
    "    left.get()\n",
    "    coord_left = left.json()\n",
    "    del left\n",
    "\n",
    "    right.scale(40)\n",
    "    right.get()\n",
    "    coord_right = right.json()\n",
    "    del right \n",
    "\n",
    "    # move into it's own section.\n",
    "    def maskWhite(img):\n",
    "        \n",
    "        # Look at removing numpty/\n",
    "        # Set the lower and upper bounds\n",
    "        lower = np.array([100,100,100])\n",
    "        upper = np.array([255,255,255])\n",
    "        \n",
    "        # Create a mask for green colour using inRange function\n",
    "        mask = cv2.inRange(img, lower, upper)\n",
    "\n",
    "        # Perform bitwise and on the original image arrays using the mask\n",
    "        return cv2.bitwise_and(img, img, mask=mask)\n",
    "\n",
    "    # TODO: Look to move monitor + screen capturing into ztype class.\n",
    "    # using the previous coord's it sets the screen size for grabbing.\n",
    "    monitor = {\n",
    "        \"top\": int(coord_left[\"y\"]),\n",
    "        \"left\": int(coord_left[\"x\"]),\n",
    "        \"width\": int(coord_right[\"x\"] - coord_left[\"x\"]),\n",
    "        \"height\": int(coord_right[\"y\"] - coord_left[\"y\"])\n",
    "    }\n",
    "\n",
    "    # viewing scale\n",
    "    scale_percent = 40\n",
    "\n",
    "    # starts showing the screen section.\n",
    "    while \"Screen capturing\":\n",
    "        # Get raw pixels from the screen, save it to a Numpy array\n",
    "        # TODO: add BGRA2RGB\n",
    "        img = np.array(sct.grab(monitor))\n",
    "\n",
    "        # Player view\n",
    "        # Display the picture\n",
    "        # cv2.imshow(\"OpenCV/Numpy normal\", img)\n",
    "\n",
    "        # TODO: Add Mask fucntion here.\n",
    "        # Machine View\n",
    "        cv2.imshow(\n",
    "            \"OpenCV/Numpy normal\", \n",
    "            # Resize image to something viewable.\n",
    "            cv2.resize(\n",
    "                maskwhite(\n",
    "                    img\n",
    "                    # convert the image from BGR to RGB.\n",
    "                    # cv2.cvtColor(\n",
    "                    #     img,\n",
    "                    #     cv2.COLOR_BGR2RGB\n",
    "                    # )\n",
    "                ),\n",
    "                (\n",
    "                    int(img.shape[1] * scale_percent / 100),\n",
    "                    int(img.shape[0] * scale_percent / 100)\n",
    "                )\n",
    "            )\n",
    "        )\n",
    "\n",
    "        # Press \"q\" to quit\n",
    "        if cv2.waitKey(25) & 0xFF == ord(\"q\"):\n",
    "            cv2.destroyAllWindows()\n",
    "            break\n"
   ]
  },
  {
   "cell_type": "code",
   "execution_count": 4,
   "metadata": {},
   "outputs": [],
   "source": [
    "# # python keyboard and mouse controller.\n",
    "# # pip install pynput\n",
    "# import pynput, time\n",
    "# controller = pynput.keyboard.Controller() # setup the \n",
    "# time.sleep(10) # adds a wait for testing\n",
    "# controller.type('testing')"
   ]
  },
  {
   "cell_type": "code",
   "execution_count": 3,
   "metadata": {},
   "outputs": [
    {
     "ename": "NameError",
     "evalue": "name 'img' is not defined",
     "output_type": "error",
     "traceback": [
      "\u001b[0;31m---------------------------------------------------------------------------\u001b[0m",
      "\u001b[0;31mNameError\u001b[0m                                 Traceback (most recent call last)",
      "\u001b[1;32m/code/github/Ztype-bot/ztype--pilot.ipynb Cell 5'\u001b[0m in \u001b[0;36m<cell line: 1>\u001b[0;34m()\u001b[0m\n\u001b[0;32m----> <a href='vscode-notebook-cell://code.rickles.co.uk/code/github/Ztype-bot/ztype--pilot.ipynb#ch0000003vscode-remote?line=0'>1</a>\u001b[0m img\n",
      "\u001b[0;31mNameError\u001b[0m: name 'img' is not defined"
     ]
    }
   ],
   "source": [
    "img"
   ]
  },
  {
   "cell_type": "code",
   "execution_count": null,
   "metadata": {},
   "outputs": [],
   "source": []
  }
 ],
 "metadata": {
  "kernelspec": {
   "display_name": "Python 3.10.4 64-bit",
   "language": "python",
   "name": "python3"
  },
  "language_info": {
   "codemirror_mode": {
    "name": "ipython",
    "version": 3
   },
   "file_extension": ".py",
   "mimetype": "text/x-python",
   "name": "python",
   "nbconvert_exporter": "python",
   "pygments_lexer": "ipython3",
   "version": "3.8.10"
  },
  "orig_nbformat": 4,
  "vscode": {
   "interpreter": {
    "hash": "31f2aee4e71d21fbe5cf8b01ff0e069b9275f58929596ceb00d14d90e3e16cd6"
   }
  }
 },
 "nbformat": 4,
 "nbformat_minor": 2
}
