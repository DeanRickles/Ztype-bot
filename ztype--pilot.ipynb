{
 "cells": [
  {
   "cell_type": "code",
   "execution_count": 56,
   "metadata": {},
   "outputs": [
    {
     "name": "stdout",
     "output_type": "stream",
     "text": [
      "Double left click on location, then press a key.\n",
      "run yourVariable.json() to get image coordinates.\n",
      "Double left click on location, then press a key.\n",
      "run yourVariable.json() to get image coordinates.\n"
     ]
    },
    {
     "ename": "error",
     "evalue": "OpenCV(4.6.0) /io/opencv/modules/core/src/arithm.cpp:1741: error: (-209:Sizes of input arguments do not match) The lower boundary is neither an array of the same size and same type as src, nor a scalar in function 'inRange'\n",
     "output_type": "error",
     "traceback": [
      "\u001b[0;31m---------------------------------------------------------------------------\u001b[0m",
      "\u001b[0;31merror\u001b[0m                                     Traceback (most recent call last)",
      "\u001b[1;32m/home/toor/github/ztype--pilot.ipynb Cell 1'\u001b[0m in \u001b[0;36m<cell line: 9>\u001b[0;34m()\u001b[0m\n\u001b[1;32m     <a href='vscode-notebook-cell:/home/toor/github/ztype--pilot.ipynb#ch0000000?line=61'>62</a>\u001b[0m img \u001b[39m=\u001b[39m np\u001b[39m.\u001b[39marray(sct\u001b[39m.\u001b[39mgrab(monitor))\n\u001b[1;32m     <a href='vscode-notebook-cell:/home/toor/github/ztype--pilot.ipynb#ch0000000?line=63'>64</a>\u001b[0m \u001b[39m# Original view\u001b[39;00m\n\u001b[1;32m     <a href='vscode-notebook-cell:/home/toor/github/ztype--pilot.ipynb#ch0000000?line=64'>65</a>\u001b[0m \u001b[39m# Display the picture\u001b[39;00m\n\u001b[1;32m     <a href='vscode-notebook-cell:/home/toor/github/ztype--pilot.ipynb#ch0000000?line=65'>66</a>\u001b[0m \u001b[39m# cv2.imshow(\"OpenCV/Numpy normal\", img)\u001b[39;00m\n\u001b[1;32m     <a href='vscode-notebook-cell:/home/toor/github/ztype--pilot.ipynb#ch0000000?line=66'>67</a>\u001b[0m \n\u001b[1;32m     <a href='vscode-notebook-cell:/home/toor/github/ztype--pilot.ipynb#ch0000000?line=67'>68</a>\u001b[0m \u001b[39m# TODO: Add White Mask.\u001b[39;00m\n\u001b[1;32m     <a href='vscode-notebook-cell:/home/toor/github/ztype--pilot.ipynb#ch0000000?line=68'>69</a>\u001b[0m \u001b[39m# Machine View\u001b[39;00m\n\u001b[1;32m     <a href='vscode-notebook-cell:/home/toor/github/ztype--pilot.ipynb#ch0000000?line=69'>70</a>\u001b[0m cv2\u001b[39m.\u001b[39mimshow(\n\u001b[1;32m     <a href='vscode-notebook-cell:/home/toor/github/ztype--pilot.ipynb#ch0000000?line=70'>71</a>\u001b[0m     \u001b[39m\"\u001b[39m\u001b[39mOpenCV/Numpy normal\u001b[39m\u001b[39m\"\u001b[39m, \n\u001b[1;32m     <a href='vscode-notebook-cell:/home/toor/github/ztype--pilot.ipynb#ch0000000?line=71'>72</a>\u001b[0m     \u001b[39m# Resize image to something viewable.\u001b[39;00m\n\u001b[1;32m     <a href='vscode-notebook-cell:/home/toor/github/ztype--pilot.ipynb#ch0000000?line=72'>73</a>\u001b[0m     cv2\u001b[39m.\u001b[39mresize(\n\u001b[0;32m---> <a href='vscode-notebook-cell:/home/toor/github/ztype--pilot.ipynb#ch0000000?line=73'>74</a>\u001b[0m         maskBlue(\n\u001b[1;32m     <a href='vscode-notebook-cell:/home/toor/github/ztype--pilot.ipynb#ch0000000?line=74'>75</a>\u001b[0m             img\n\u001b[1;32m     <a href='vscode-notebook-cell:/home/toor/github/ztype--pilot.ipynb#ch0000000?line=75'>76</a>\u001b[0m             \u001b[39m# convert the image from BGR to RGB.\u001b[39;49;00m\n\u001b[1;32m     <a href='vscode-notebook-cell:/home/toor/github/ztype--pilot.ipynb#ch0000000?line=76'>77</a>\u001b[0m             \u001b[39m# cv2.cvtColor(\u001b[39;49;00m\n\u001b[1;32m     <a href='vscode-notebook-cell:/home/toor/github/ztype--pilot.ipynb#ch0000000?line=77'>78</a>\u001b[0m             \u001b[39m#     img,\u001b[39;49;00m\n\u001b[1;32m     <a href='vscode-notebook-cell:/home/toor/github/ztype--pilot.ipynb#ch0000000?line=78'>79</a>\u001b[0m             \u001b[39m#     cv2.COLOR_BGR2RGB\u001b[39;49;00m\n\u001b[1;32m     <a href='vscode-notebook-cell:/home/toor/github/ztype--pilot.ipynb#ch0000000?line=79'>80</a>\u001b[0m             \u001b[39m# )\u001b[39;49;00m\n\u001b[1;32m     <a href='vscode-notebook-cell:/home/toor/github/ztype--pilot.ipynb#ch0000000?line=80'>81</a>\u001b[0m         ),\n\u001b[1;32m     <a href='vscode-notebook-cell:/home/toor/github/ztype--pilot.ipynb#ch0000000?line=81'>82</a>\u001b[0m         (\n\u001b[1;32m     <a href='vscode-notebook-cell:/home/toor/github/ztype--pilot.ipynb#ch0000000?line=82'>83</a>\u001b[0m             \u001b[39mint\u001b[39m(img\u001b[39m.\u001b[39mshape[\u001b[39m1\u001b[39m] \u001b[39m*\u001b[39m scale_percent \u001b[39m/\u001b[39m \u001b[39m100\u001b[39m),\n\u001b[1;32m     <a href='vscode-notebook-cell:/home/toor/github/ztype--pilot.ipynb#ch0000000?line=83'>84</a>\u001b[0m             \u001b[39mint\u001b[39m(img\u001b[39m.\u001b[39mshape[\u001b[39m0\u001b[39m] \u001b[39m*\u001b[39m scale_percent \u001b[39m/\u001b[39m \u001b[39m100\u001b[39m)\n\u001b[1;32m     <a href='vscode-notebook-cell:/home/toor/github/ztype--pilot.ipynb#ch0000000?line=84'>85</a>\u001b[0m         )\n\u001b[1;32m     <a href='vscode-notebook-cell:/home/toor/github/ztype--pilot.ipynb#ch0000000?line=85'>86</a>\u001b[0m     )\n\u001b[1;32m     <a href='vscode-notebook-cell:/home/toor/github/ztype--pilot.ipynb#ch0000000?line=86'>87</a>\u001b[0m )\n\u001b[1;32m     <a href='vscode-notebook-cell:/home/toor/github/ztype--pilot.ipynb#ch0000000?line=88'>89</a>\u001b[0m \u001b[39m# Press \"q\" to quit\u001b[39;00m\n\u001b[1;32m     <a href='vscode-notebook-cell:/home/toor/github/ztype--pilot.ipynb#ch0000000?line=89'>90</a>\u001b[0m \u001b[39mif\u001b[39;00m cv2\u001b[39m.\u001b[39mwaitKey(\u001b[39m25\u001b[39m) \u001b[39m&\u001b[39m \u001b[39m0xFF\u001b[39m \u001b[39m==\u001b[39m \u001b[39mord\u001b[39m(\u001b[39m\"\u001b[39m\u001b[39mq\u001b[39m\u001b[39m\"\u001b[39m):\n",
      "\u001b[1;32m/home/toor/github/ztype--pilot.ipynb Cell 3'\u001b[0m in \u001b[0;36mmaskBlue\u001b[0;34m(img)\u001b[0m\n\u001b[1;32m      <a href='vscode-notebook-cell:/home/toor/github/ztype--pilot.ipynb#ch0000004?line=7'>8</a>\u001b[0m upper \u001b[39m=\u001b[39m np\u001b[39m.\u001b[39marray([\u001b[39m255\u001b[39m,\u001b[39m255\u001b[39m,\u001b[39m255\u001b[39m])\n\u001b[1;32m     <a href='vscode-notebook-cell:/home/toor/github/ztype--pilot.ipynb#ch0000004?line=9'>10</a>\u001b[0m \u001b[39m# Create a mask for green colour using inRange function\u001b[39;00m\n\u001b[0;32m---> <a href='vscode-notebook-cell:/home/toor/github/ztype--pilot.ipynb#ch0000004?line=10'>11</a>\u001b[0m mask \u001b[39m=\u001b[39m cv2\u001b[39m.\u001b[39;49minRange(img, lower, upper)\n\u001b[1;32m     <a href='vscode-notebook-cell:/home/toor/github/ztype--pilot.ipynb#ch0000004?line=12'>13</a>\u001b[0m \u001b[39m# Perform bitwise and on the original image arrays using the mask\u001b[39;00m\n\u001b[1;32m     <a href='vscode-notebook-cell:/home/toor/github/ztype--pilot.ipynb#ch0000004?line=13'>14</a>\u001b[0m \u001b[39mreturn\u001b[39;00m cv2\u001b[39m.\u001b[39mbitwise_and(img, img, mask\u001b[39m=\u001b[39mmask)\n",
      "\u001b[0;31merror\u001b[0m: OpenCV(4.6.0) /io/opencv/modules/core/src/arithm.cpp:1741: error: (-209:Sizes of input arguments do not match) The lower boundary is neither an array of the same size and same type as src, nor a scalar in function 'inRange'\n"
     ]
    }
   ],
   "source": [
    "from packages import ztype # sceenshot point;\n",
    "\n",
    "import numpy as np  # image manipulation\n",
    "import cv2          # Image view / manipulation\n",
    "from mss import mss # screenshot \n",
    "# import keyboard     # simulate keyboard events.\n",
    "\n",
    "# The simplest use, save a screen shot of the 1st monitor\n",
    "with mss() as sct:\n",
    "\n",
    "    # creating objects left and right for coord.\n",
    "    left = right = ztype.imagePosition(sct.shot())\n",
    "    \n",
    "    # left.img_scalelock(False)\n",
    "    left.scale(40)\n",
    "    left.get()\n",
    "    coord_left = left.json()\n",
    "    del left\n",
    "\n",
    "    right.scale(40)\n",
    "    right.get()\n",
    "    coord_right = right.json()\n",
    "    del right \n",
    "\n",
    "    # move into it's own section.\n",
    "    def maskWhite(img):\n",
    "        \n",
    "        # Look at removing numpty/\n",
    "        # Set the lower and upper bounds\n",
    "        lower = np.array([100,100,100])\n",
    "        upper = np.array([255,255,255])\n",
    "        \n",
    "        # Create a mask for green colour using inRange function\n",
    "        mask = cv2.inRange(img, lower, upper)\n",
    "\n",
    "        # Perform bitwise and on the original image arrays using the mask\n",
    "        return cv2.bitwise_and(img, img, mask=mask)\n",
    "\n",
    "\n",
    "# TODO: Set colour mask to White only.\n",
    "# TODO: Read text on screen. Show output.\n",
    "# TODO: Test while playing that words are correct. use test pack to test.\n",
    "# TODO: wait on set parameters.\n",
    "# TODO: type words\n",
    "# TODO: enter functionallity. (explode)\n",
    "\n",
    "    # TODO: Look to move monitor + screen capturing into ztype class.\n",
    "    # using the previous coord's it sets the screen size for grabbing.\n",
    "    monitor = {\n",
    "        \"top\": int(coord_left[\"y\"]),\n",
    "        \"left\": int(coord_left[\"x\"]),\n",
    "        \"width\": int(coord_right[\"x\"] - coord_left[\"x\"]),\n",
    "        \"height\": int(coord_right[\"y\"] - coord_left[\"y\"])\n",
    "    }\n",
    "\n",
    "    # viewing scale\n",
    "    scale_percent = 40\n",
    "\n",
    "    # starts showing the screen section.\n",
    "    while \"Screen capturing\":\n",
    "        # Get raw pixels from the screen, save it to a Numpy array\n",
    "        img = np.array(sct.grab(monitor))\n",
    "\n",
    "        # Original view\n",
    "        # Display the picture\n",
    "        # cv2.imshow(\"OpenCV/Numpy normal\", img)\n",
    "\n",
    "        # TODO: Add White Mask.\n",
    "        # Machine View\n",
    "        cv2.imshow(\n",
    "            \"OpenCV/Numpy normal\", \n",
    "            # Resize image to something viewable.\n",
    "            cv2.resize(\n",
    "                maskBlue(\n",
    "                    img\n",
    "                    # convert the image from BGR to RGB.\n",
    "                    # cv2.cvtColor(\n",
    "                    #     img,\n",
    "                    #     cv2.COLOR_BGR2RGB\n",
    "                    # )\n",
    "                ),\n",
    "                (\n",
    "                    int(img.shape[1] * scale_percent / 100),\n",
    "                    int(img.shape[0] * scale_percent / 100)\n",
    "                )\n",
    "            )\n",
    "        )\n",
    "\n",
    "        # Press \"q\" to quit\n",
    "        if cv2.waitKey(25) & 0xFF == ord(\"q\"):\n",
    "            cv2.destroyAllWindows()\n",
    "            break\n"
   ]
  },
  {
   "cell_type": "code",
   "execution_count": 4,
   "metadata": {},
   "outputs": [],
   "source": [
    "# # python keyboard and mouse controller.\n",
    "# # pip install pynput\n",
    "# import pynput, time\n",
    "# controller = pynput.keyboard.Controller() # setup the \n",
    "# time.sleep(10) # adds a wait for testing\n",
    "# controller.type('testing')"
   ]
  },
  {
   "cell_type": "code",
   "execution_count": 53,
   "metadata": {},
   "outputs": [],
   "source": [
    "    # move into it's own section.\n",
    "    def maskBlue(img):\n",
    "        \n",
    "        # Look at removing numpty/\n",
    "        # Set the lower and upper bounds\n",
    "        #    (,W?,B)\n",
    "        lower = np.array([100,0,0])\n",
    "        upper = np.array([255,255,255])\n",
    "        \n",
    "        # Create a mask for green colour using inRange function\n",
    "        mask = cv2.inRange(img, lower, upper)\n",
    "\n",
    "        # Perform bitwise and on the original image arrays using the mask\n",
    "        return cv2.bitwise_and(img, img, mask=mask)"
   ]
  },
  {
   "cell_type": "code",
   "execution_count": null,
   "metadata": {},
   "outputs": [],
   "source": []
  }
 ],
 "metadata": {
  "kernelspec": {
   "display_name": "Python 3.10.4 64-bit",
   "language": "python",
   "name": "python3"
  },
  "language_info": {
   "codemirror_mode": {
    "name": "ipython",
    "version": 3
   },
   "file_extension": ".py",
   "mimetype": "text/x-python",
   "name": "python",
   "nbconvert_exporter": "python",
   "pygments_lexer": "ipython3",
   "version": "3.10.4"
  },
  "orig_nbformat": 4,
  "vscode": {
   "interpreter": {
    "hash": "31f2aee4e71d21fbe5cf8b01ff0e069b9275f58929596ceb00d14d90e3e16cd6"
   }
  }
 },
 "nbformat": 4,
 "nbformat_minor": 2
}
